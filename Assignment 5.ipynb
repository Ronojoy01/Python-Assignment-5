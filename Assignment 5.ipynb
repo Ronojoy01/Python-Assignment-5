{
 "cells": [
  {
   "cell_type": "raw",
   "id": "ae122f20",
   "metadata": {},
   "source": [
    "Assignment 5"
   ]
  },
  {
   "cell_type": "raw",
   "id": "d5c91a21",
   "metadata": {},
   "source": [
    "1.What does an empty dictionary's code look like?\n",
    "Ans- dict1={}"
   ]
  },
  {
   "cell_type": "raw",
   "id": "11cf3a42",
   "metadata": {},
   "source": [
    "2. What is the value of a dictionary value with the key 'foo' and the value 42?\n",
    "Ans- 42"
   ]
  },
  {
   "cell_type": "code",
   "execution_count": 3,
   "id": "2076429c",
   "metadata": {},
   "outputs": [],
   "source": [
    "x = {'foo':42}"
   ]
  },
  {
   "cell_type": "code",
   "execution_count": 11,
   "id": "f5f3ed49",
   "metadata": {},
   "outputs": [
    {
     "data": {
      "text/plain": [
       "dict_values([42])"
      ]
     },
     "execution_count": 11,
     "metadata": {},
     "output_type": "execute_result"
    }
   ],
   "source": [
    "x.values()"
   ]
  },
  {
   "cell_type": "raw",
   "id": "7612e7ea",
   "metadata": {},
   "source": [
    "3. What is the most significant distinction between a dictionary and a list?\n",
    "Ans -  The main difference between a dictionary and a list is  that items in dictionaries are accessed via keys and not via their position, whereas values in list can be accessed with there position. \n"
   ]
  },
  {
   "cell_type": "raw",
   "id": "4495bcc3",
   "metadata": {},
   "source": [
    "4. What happens if you try to access spam['foo'] if spam is {'bar': 100}?\n",
    "Ans - The in operator checks whether a value exists as a key in the dictionary. If it not exist it will show KeyError."
   ]
  },
  {
   "cell_type": "code",
   "execution_count": 8,
   "id": "77de4467",
   "metadata": {},
   "outputs": [],
   "source": [
    "spam = {'bar': 100}"
   ]
  },
  {
   "cell_type": "code",
   "execution_count": 9,
   "id": "43aef876",
   "metadata": {},
   "outputs": [
    {
     "ename": "KeyError",
     "evalue": "'foo'",
     "output_type": "error",
     "traceback": [
      "\u001b[1;31m---------------------------------------------------------------------------\u001b[0m",
      "\u001b[1;31mKeyError\u001b[0m                                  Traceback (most recent call last)",
      "\u001b[1;32m~\\AppData\\Local\\Temp/ipykernel_5728/3999281786.py\u001b[0m in \u001b[0;36m<module>\u001b[1;34m\u001b[0m\n\u001b[1;32m----> 1\u001b[1;33m \u001b[0mspam\u001b[0m\u001b[1;33m[\u001b[0m\u001b[1;34m'foo'\u001b[0m\u001b[1;33m]\u001b[0m\u001b[1;33m\u001b[0m\u001b[1;33m\u001b[0m\u001b[0m\n\u001b[0m",
      "\u001b[1;31mKeyError\u001b[0m: 'foo'"
     ]
    }
   ],
   "source": [
    "spam['foo']"
   ]
  },
  {
   "cell_type": "raw",
   "id": "129f02f4",
   "metadata": {},
   "source": [
    "5. If a dictionary is stored in spam, what is the difference between the expressions 'cat' in spam and 'cat' in spam.keys()?\n",
    "Ans - There is no difference. The in operator checks whether a value exists as a key in the dictionary. \n",
    "'cat' in spam checks whether there is a 'cat' key in the dictionary, while 'cat' in spam.keys() checks whether there is a key 'cat' for one of the keys in spam ."
   ]
  },
  {
   "cell_type": "raw",
   "id": "1f13def0",
   "metadata": {},
   "source": [
    "6. If a dictionary is stored in spam, what is the difference between the expressions 'cat' in spam and 'cat' in spam.values()?\n",
    "Ans -  'cat' in spam checks whether there is a 'cat' key in the dictionary, \n",
    "while 'cat' in spam. values() checks whether there is a value 'cat' for one of the keys in spam .\n"
   ]
  },
  {
   "cell_type": "raw",
   "id": "7a302671",
   "metadata": {},
   "source": [
    "7. What is a shortcut for the following code?\n",
    "if 'color' not in spam:\n",
    "spam['color'] = 'black'\n",
    "\n",
    "Ans - spam['color'] = 'black' is the shortcut to add if  key 'color' and value 'Black' is not listed in dictionary spam. "
   ]
  },
  {
   "cell_type": "raw",
   "id": "289bd7f5",
   "metadata": {},
   "source": [
    "8. How do you \"pretty print\" dictionary values using which module and function?\n",
    "Ans - Use pprint() to Pretty Print a Dictionary in Python\n",
    "Within the pprint module there is a function with the same name pprint() , which is the function used to pretty-print the given string or object. First, declare an array of dictionaries. Afterward, pretty print it using the function pprint."
   ]
  }
 ],
 "metadata": {
  "kernelspec": {
   "display_name": "Python 3 (ipykernel)",
   "language": "python",
   "name": "python3"
  },
  "language_info": {
   "codemirror_mode": {
    "name": "ipython",
    "version": 3
   },
   "file_extension": ".py",
   "mimetype": "text/x-python",
   "name": "python",
   "nbconvert_exporter": "python",
   "pygments_lexer": "ipython3",
   "version": "3.9.7"
  }
 },
 "nbformat": 4,
 "nbformat_minor": 5
}
